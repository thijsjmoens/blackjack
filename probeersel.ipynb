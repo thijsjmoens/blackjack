{
 "cells": [
  {
   "cell_type": "markdown",
   "metadata": {},
   "source": [
    "# Dit is even een notebook om eerst wat ideeen te proberen"
   ]
  },
  {
   "cell_type": "code",
   "execution_count": 5,
   "metadata": {},
   "outputs": [],
   "source": [
    "# Create a list of cards\n",
    "cards = [11, 2, 3, 4, 5, 6, 7, 8, 9, 10, 10, 10, 10]\n",
    "\n",
    "# Create a list for the player\n",
    "cards_player = []\n",
    "\n",
    "# Create a list for the computer\n",
    "cards_computer = []\n",
    "\n",
    "# Create a variable to draw a card\n",
    "draw_card = ''"
   ]
  },
  {
   "cell_type": "code",
   "execution_count": 6,
   "metadata": {},
   "outputs": [],
   "source": [
    "import random"
   ]
  },
  {
   "cell_type": "code",
   "execution_count": 7,
   "metadata": {},
   "outputs": [],
   "source": [
    "# Assign two cards to the player at the start of the game\n",
    "for car in range(2):\n",
    "    cards_player.append(random.choice(cards))\n",
    "    \n",
    "# Assign one card to the computer at the start of the game\n",
    "cards_computer.append(random.choice(cards))"
   ]
  },
  {
   "cell_type": "code",
   "execution_count": 8,
   "metadata": {},
   "outputs": [
    {
     "name": "stdout",
     "output_type": "stream",
     "text": [
      "Your cards: [2, 2], current score: 4\n",
      "Computer's first card: [10]\n"
     ]
    }
   ],
   "source": [
    "# Print the cards of the player and the computer\n",
    "print(f\"Your cards: {cards_player}, current score: {sum(cards_player)}\")\n",
    "print(f\"Computer's first card: {cards_computer}\")"
   ]
  },
  {
   "cell_type": "markdown",
   "metadata": {},
   "source": [
    "## First check when player has 2 cards\n",
    "\n",
    "Possible outcomes are:\n",
    "1. Player has 21 and wins the game\n",
    "2. Player has less then 21 and is asked for another card"
   ]
  },
  {
   "cell_type": "code",
   "execution_count": 9,
   "metadata": {},
   "outputs": [],
   "source": [
    "# Check if the player has a blackjack\n",
    "if sum(cards_player) == 21:\n",
    "    print(\"You have a Blackjack! You win!\")\n",
    "    print(f\"Your final hand: {cards_player}, final score: {sum(cards_player)}\")\n",
    "    print(f\"Computer's final hand: {cards_computer}, final score: {sum(cards_computer)}\")\n",
    "\n",
    "    # create variable to check if user wants to play a game\n",
    "    check_play_game = input(\"Do you want to play a game of Blackjack? Type 'y' or 'n': \")\n",
    "else:\n",
    "    # Ask the player if they want to draw another card\n",
    "    draw_card = input(\"Type 'y' to get another card, type 'n' to pass: \")"
   ]
  },
  {
   "cell_type": "markdown",
   "metadata": {},
   "source": [
    "## Second Check when player has not 21\n",
    "\n",
    "Possible outcomes:\n",
    "1. Player holds /passes\n",
    "2. Player wants an extra card"
   ]
  },
  {
   "cell_type": "code",
   "execution_count": 10,
   "metadata": {},
   "outputs": [],
   "source": [
    "# Check if the player wants to draw another card\n",
    "if draw_card == 'n':\n",
    "    print(\"You pass\")\n",
    "else:\n",
    "    # Assign another card to the player\n",
    "    cards_player.append(random.choice(cards))\n",
    "    \n",
    "    # Check if the player has a blackjack or has gone over 21\n",
    "    if sum(cards_player) == 21:\n",
    "        print(\"You have a Blackjack!\")\n",
    "    elif sum(cards_player) > 21:\n",
    "        print(\"You have gone over 21! You lose!\")\n",
    "    else:\n",
    "        # Ask the player if they want to draw another card\n",
    "        draw_card = input(\"Type 'y' to get another card, type 'n' to pass: \")\n"
   ]
  }
 ],
 "metadata": {
  "kernelspec": {
   "display_name": "base",
   "language": "python",
   "name": "python3"
  },
  "language_info": {
   "codemirror_mode": {
    "name": "ipython",
    "version": 3
   },
   "file_extension": ".py",
   "mimetype": "text/x-python",
   "name": "python",
   "nbconvert_exporter": "python",
   "pygments_lexer": "ipython3",
   "version": "3.11.7"
  }
 },
 "nbformat": 4,
 "nbformat_minor": 2
}
